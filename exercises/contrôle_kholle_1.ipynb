{
 "cells": [
  {
   "cell_type": "code",
   "execution_count": 31,
   "metadata": {},
   "outputs": [
    {
     "name": "stdout",
     "output_type": "stream",
     "text": [
      "0.19999999999999996\n"
     ]
    }
   ],
   "source": [
    "#Exercice 1\n",
    "\n",
    "calcul = 1.2 - 1.0\n",
    "print(calcul)\n",
    "\n",
    "#pour les nombres flottants (à virgule), on manipule une approximation de leur valeur.\n",
    "#le résultat devrait être 0.2"
   ]
  },
  {
   "cell_type": "code",
   "execution_count": 26,
   "metadata": {},
   "outputs": [
    {
     "name": "stdout",
     "output_type": "stream",
     "text": [
      "Fizzbuzz\n"
     ]
    }
   ],
   "source": [
    "#Exercice 2\n",
    "\n",
    "nombre = int(input(\"Saisis un nombre entier\"))\n",
    "\n",
    "if (nombre % 5 == 0) and (nombre % 3 == 0):\n",
    "    print(\"Fizzbuzz\")\n",
    "\n",
    "elif nombre % 3 == 0:\n",
    "    print(\"Fizz\")\n",
    "\n",
    "elif nombre % 5 == 0:\n",
    "    print(\"Buzz\")\n",
    "\n",
    "else:\n",
    "    print(nombre)"
   ]
  },
  {
   "cell_type": "code",
   "execution_count": 28,
   "metadata": {},
   "outputs": [
    {
     "name": "stdout",
     "output_type": "stream",
     "text": [
      "La population P2 dépassera la population P1 dans 35 années.\n"
     ]
    }
   ],
   "source": [
    "#Exercice 3\n",
    "\n",
    "population_1 = 20000000\n",
    "population_2 = 10000000\n",
    "annee = 0\n",
    "\n",
    "while population_2 < population_1:\n",
    "    population_1 += 1000000\n",
    "    population_2 = population_2 * 1.05\n",
    "    annee += 1\n",
    "\n",
    "print(\"La population P2 dépassera la population P1 dans\", annee, \"années.\")"
   ]
  }
 ],
 "metadata": {
  "interpreter": {
   "hash": "77484ce416118502741a8d3f016440e56baf463ce99ead0d2989916382f7c35f"
  },
  "kernelspec": {
   "display_name": "Python 3.9.7 64-bit ('l1-python': conda)",
   "name": "python3"
  },
  "language_info": {
   "codemirror_mode": {
    "name": "ipython",
    "version": 3
   },
   "file_extension": ".py",
   "mimetype": "text/x-python",
   "name": "python",
   "nbconvert_exporter": "python",
   "pygments_lexer": "ipython3",
   "version": "3.9.7"
  },
  "orig_nbformat": 4
 },
 "nbformat": 4,
 "nbformat_minor": 2
}
