{
 "cells": [
  {
   "cell_type": "code",
   "execution_count": 36,
   "metadata": {},
   "outputs": [
    {
     "name": "stdout",
     "output_type": "stream",
     "text": [
      "<class 'tuple'>\n",
      "342094\n"
     ]
    }
   ],
   "source": [
    "def tempsEnSeconde(temps):\n",
    "    '''Renvoie la valeur en seconde de temps donné comme jour, heure, minute, seconde'''\n",
    "    temps = temps[0] * 86400 + temps[1] * 3600 + temps[2] * 60 + temps[3]\n",
    "    return temps\n",
    "\n",
    "temps = (3,23,1,34)\n",
    "print(type(temps))\n",
    "print(tempsEnSeconde(temps))"
   ]
  },
  {
   "cell_type": "code",
   "execution_count": 37,
   "metadata": {},
   "outputs": [
    {
     "name": "stdout",
     "output_type": "stream",
     "text": [
      "1 jours 3 heures 46 minutes 40 secondes\n"
     ]
    }
   ],
   "source": [
    "def secondeEnTemps(seconde):\n",
    "    \"\"\"Renvoie le temps (jour, heure, minute, seconde) qui correspond au nombre de seconde passé en argument\"\"\"\n",
    "    seconde = (seconde // 86400, (seconde % 86400) // 3600, ((seconde % 86400) % 3600) // 60, ((seconde % 86400) % 3600) % 60)\n",
    "    return seconde \n",
    "\n",
    "temps = secondeEnTemps(100000)\n",
    "print(temps[0],\"jours\",temps[1],\"heures\",temps[2],\"minutes\",temps[3],\"secondes\")"
   ]
  },
  {
   "cell_type": "code",
   "execution_count": 38,
   "metadata": {},
   "outputs": [
    {
     "name": "stdout",
     "output_type": "stream",
     "text": [
      "1 jour 14 minutes 23 secondes"
     ]
    },
    {
     "data": {
      "text/plain": [
       "(1, 0, 14, 23)"
      ]
     },
     "execution_count": 38,
     "metadata": {},
     "output_type": "execute_result"
    }
   ],
   "source": [
    "#fonction auxiliaire ici\n",
    "\n",
    "def afficheTemps(temps):\n",
    "    if temps[0] > 1:\n",
    "        print(temps[0], \"jours \", end=\"\")\n",
    "    elif temps[0] == 1:\n",
    "        print(temps[0], \"jour \", end=\"\")\n",
    "    if temps[1] > 1:\n",
    "        print(temps[1], \"heures \", end=\"\")\n",
    "    elif temps[1] == 1:\n",
    "        print(temps[0], \"heure \", end=\"\")\n",
    "    if temps[2] > 1:\n",
    "        print(temps[2], \"minutes \", end=\"\")\n",
    "    elif temps[2] == 1:\n",
    "        print(temps[2], \"minute \", end=\"\")\n",
    "    if temps[3] > 1:\n",
    "        print(temps[3], \"secondes\", end=\"\")\n",
    "    elif temps[3] == 1:\n",
    "        print(temps[3], \"seconde\", end=\"\")\n",
    "    return temps\n",
    "    \n",
    "afficheTemps((1,0,14,23))\n"
   ]
  },
  {
   "cell_type": "markdown",
   "metadata": {},
   "source": [
    "Ecrire une fonction qui demande à l'utilisateur de rentrer un nombre de jours, d'heures, de minutes et\n",
    "de secondes et qui renvoie un temps. Attention, si l'entrée utilisateur n'est pas correcte, par exemple 80 minutes,\n",
    "afficher un message d'erreur et s'arrêter.\n",
    "\n",
    "(Optionnel) Au lieu d'arêter le programme, demander de rentrer une nouvelle valeur, tant que \n",
    "ce n'est pas une valeur correcte."
   ]
  },
  {
   "cell_type": "code",
   "execution_count": 40,
   "metadata": {},
   "outputs": [
    {
     "name": "stdout",
     "output_type": "stream",
     "text": [
      "4 jours 4 heures 4 minutes 3 secondes"
     ]
    },
    {
     "data": {
      "text/plain": [
       "(4, 4, 4, 3)"
      ]
     },
     "execution_count": 40,
     "metadata": {},
     "output_type": "execute_result"
    }
   ],
   "source": [
    "def demandeTemps():\n",
    "    jour = int(input(\"Rentre un nombre de jours\"))\n",
    "    heure = int(input(\"Rentre un nombre d'heures\"))\n",
    "    while heure > 23:\n",
    "        heure = int(input(\"Rentre un nombre d'heures en-dessous de 24\"))\n",
    "    minute = int(input(\"Rentre un nombre de minutes\"))\n",
    "    while minute > 59:\n",
    "        minute = int(input(\"Rentre un nombre de minutes en-dessous de 60\"))\n",
    "    seconde = int(input(\"Rentre un nombre de secondes\"))\n",
    "    while seconde > 59 :\n",
    "        seconde = int(input(\"Rentre un nombre de secondes en-dessous de 60\"))\n",
    "    return jour, heure, minute, seconde\n",
    "\n",
    "afficheTemps(demandeTemps())"
   ]
  },
  {
   "cell_type": "markdown",
   "metadata": {},
   "source": [
    "On veut être capable d'additionner deux temps. Donner une fonction qui fait ce calcul,\n",
    "en utilisant les fonctions précédentes."
   ]
  },
  {
   "cell_type": "code",
   "execution_count": null,
   "metadata": {},
   "outputs": [
    {
     "data": {
      "text/plain": [
       "(7, 25, 61, 26)"
      ]
     },
     "execution_count": 23,
     "metadata": {},
     "output_type": "execute_result"
    }
   ],
   "source": [
    "def sommeTemps(temps1,temps2):\n",
    "    return temps1[0] + temps2[0], temps1[1] + temps2[1], temps1[2] + temps2[2], temps1[3] + temps2[3]\n",
    "\n",
    "afficheTemps(sommeTemps((2,3,4,25),(5,22,57,1)))\n",
    "\n",
    "# on a plus de 24h et plus de 60 min"
   ]
  },
  {
   "cell_type": "markdown",
   "metadata": {},
   "source": [
    "On veut maintenant calculer un pourcentage d'un temps. Par exemple, 20% de\n",
    "2 jours et 36 minutes correspond à 9 heures, 43 minutes et 12 secondes.\n",
    "\n",
    "Implémenter la fonction `proportionTemps` puis appeler cette fonction en échangeant l'ordre des arguments mais en les nommant."
   ]
  },
  {
   "cell_type": "code",
   "execution_count": 43,
   "metadata": {},
   "outputs": [
    {
     "ename": "TypeError",
     "evalue": "'tuple' object does not support item assignment",
     "output_type": "error",
     "traceback": [
      "\u001b[0;31m---------------------------------------------------------------------------\u001b[0m",
      "\u001b[0;31mTypeError\u001b[0m                                 Traceback (most recent call last)",
      "\u001b[0;32m/var/folders/5t/ly9f2fbd0bngdhdp_2b19mj40000gp/T/ipykernel_1745/3440348986.py\u001b[0m in \u001b[0;36m<module>\u001b[0;34m\u001b[0m\n\u001b[1;32m      6\u001b[0m     \u001b[0;32mreturn\u001b[0m \u001b[0mtemps\u001b[0m\u001b[0;34m\u001b[0m\u001b[0;34m\u001b[0m\u001b[0m\n\u001b[1;32m      7\u001b[0m \u001b[0;34m\u001b[0m\u001b[0m\n\u001b[0;32m----> 8\u001b[0;31m \u001b[0mafficheTemps\u001b[0m\u001b[0;34m(\u001b[0m\u001b[0mproportionTemps\u001b[0m\u001b[0;34m(\u001b[0m\u001b[0mproportion\u001b[0m \u001b[0;34m=\u001b[0m \u001b[0;36m20\u001b[0m\u001b[0;34m,\u001b[0m \u001b[0mtemps\u001b[0m \u001b[0;34m=\u001b[0m \u001b[0;34m(\u001b[0m\u001b[0;36m2\u001b[0m\u001b[0;34m,\u001b[0m\u001b[0;36m0\u001b[0m\u001b[0;34m,\u001b[0m\u001b[0;36m36\u001b[0m\u001b[0;34m,\u001b[0m\u001b[0;36m0\u001b[0m\u001b[0;34m)\u001b[0m\u001b[0;34m)\u001b[0m\u001b[0;34m)\u001b[0m\u001b[0;34m\u001b[0m\u001b[0;34m\u001b[0m\u001b[0m\n\u001b[0m",
      "\u001b[0;32m/var/folders/5t/ly9f2fbd0bngdhdp_2b19mj40000gp/T/ipykernel_1745/3440348986.py\u001b[0m in \u001b[0;36mproportionTemps\u001b[0;34m(temps, proportion)\u001b[0m\n\u001b[1;32m      1\u001b[0m \u001b[0;32mdef\u001b[0m \u001b[0mproportionTemps\u001b[0m\u001b[0;34m(\u001b[0m\u001b[0mtemps\u001b[0m\u001b[0;34m,\u001b[0m\u001b[0mproportion\u001b[0m\u001b[0;34m)\u001b[0m\u001b[0;34m:\u001b[0m\u001b[0;34m\u001b[0m\u001b[0;34m\u001b[0m\u001b[0m\n\u001b[0;32m----> 2\u001b[0;31m     \u001b[0mtemps\u001b[0m\u001b[0;34m[\u001b[0m\u001b[0;36m0\u001b[0m\u001b[0;34m]\u001b[0m \u001b[0;34m=\u001b[0m \u001b[0mtemps\u001b[0m\u001b[0;34m[\u001b[0m\u001b[0;36m0\u001b[0m\u001b[0;34m]\u001b[0m \u001b[0;34m//\u001b[0m \u001b[0mproportion\u001b[0m\u001b[0;34m\u001b[0m\u001b[0;34m\u001b[0m\u001b[0m\n\u001b[0m\u001b[1;32m      3\u001b[0m     \u001b[0mtemps\u001b[0m\u001b[0;34m[\u001b[0m\u001b[0;36m1\u001b[0m\u001b[0;34m]\u001b[0m \u001b[0;34m=\u001b[0m \u001b[0mtemps\u001b[0m\u001b[0;34m[\u001b[0m\u001b[0;36m0\u001b[0m\u001b[0;34m]\u001b[0m \u001b[0;34m%\u001b[0m \u001b[0mproportion\u001b[0m \u001b[0;34m+\u001b[0m \u001b[0mtemps\u001b[0m\u001b[0;34m[\u001b[0m\u001b[0;36m1\u001b[0m\u001b[0;34m]\u001b[0m \u001b[0;34m//\u001b[0m \u001b[0mproportion\u001b[0m\u001b[0;34m\u001b[0m\u001b[0;34m\u001b[0m\u001b[0m\n\u001b[1;32m      4\u001b[0m     \u001b[0mtemps\u001b[0m\u001b[0;34m[\u001b[0m\u001b[0;36m2\u001b[0m\u001b[0;34m]\u001b[0m \u001b[0;34m=\u001b[0m \u001b[0mtemps\u001b[0m\u001b[0;34m[\u001b[0m\u001b[0;36m1\u001b[0m\u001b[0;34m]\u001b[0m \u001b[0;34m%\u001b[0m \u001b[0mproportion\u001b[0m \u001b[0;34m+\u001b[0m \u001b[0mtemps\u001b[0m\u001b[0;34m[\u001b[0m\u001b[0;36m2\u001b[0m\u001b[0;34m]\u001b[0m \u001b[0;34m//\u001b[0m \u001b[0mproportion\u001b[0m\u001b[0;34m\u001b[0m\u001b[0;34m\u001b[0m\u001b[0m\n\u001b[1;32m      5\u001b[0m     \u001b[0mtemps\u001b[0m\u001b[0;34m[\u001b[0m\u001b[0;36m3\u001b[0m\u001b[0;34m]\u001b[0m \u001b[0;34m=\u001b[0m \u001b[0mtemps\u001b[0m\u001b[0;34m[\u001b[0m\u001b[0;36m2\u001b[0m\u001b[0;34m]\u001b[0m \u001b[0;34m%\u001b[0m \u001b[0mproportion\u001b[0m \u001b[0;34m+\u001b[0m \u001b[0mtemps\u001b[0m\u001b[0;34m[\u001b[0m\u001b[0;36m3\u001b[0m\u001b[0;34m]\u001b[0m \u001b[0;34m//\u001b[0m \u001b[0mproportion\u001b[0m\u001b[0;34m\u001b[0m\u001b[0;34m\u001b[0m\u001b[0m\n",
      "\u001b[0;31mTypeError\u001b[0m: 'tuple' object does not support item assignment"
     ]
    }
   ],
   "source": [
    "def proportionTemps(temps,proportion):\n",
    "    temps[0] = temps[0] // proportion\n",
    "    temps[1] = temps[0] % proportion + temps[1] // proportion\n",
    "    temps[2] = temps[1] % proportion + temps[2] // proportion\n",
    "    temps[3] = temps[2] % proportion + temps[3] // proportion\n",
    "    return temps \n",
    "\n",
    "afficheTemps(proportionTemps(proportion = 20, temps = (2,0,36,0)))"
   ]
  },
  {
   "cell_type": "code",
   "execution_count": 46,
   "metadata": {},
   "outputs": [
    {
     "name": "stdout",
     "output_type": "stream",
     "text": [
      "2 heures 1 minute 16 secondes"
     ]
    },
    {
     "data": {
      "text/plain": [
       "(0, 2, 1, 16)"
      ]
     },
     "execution_count": 46,
     "metadata": {},
     "output_type": "execute_result"
    }
   ],
   "source": [
    "def proportionTemps(temps,proportion):\n",
    "    temps = (temps[0] // proportion, temps[0] % proportion + temps[1] // proportion, temps[1] % proportion + temps[2] // proportion, temps[2] % proportion + temps[3] // proportion)\n",
    "    return temps\n",
    "\n",
    "afficheTemps(proportionTemps(proportion = 20, temps = (2,0,36,0)))"
   ]
  },
  {
   "cell_type": "code",
   "execution_count": null,
   "metadata": {},
   "outputs": [],
   "source": []
  }
 ],
 "metadata": {
  "interpreter": {
   "hash": "a90b37be6f15cd6f8df9c869725d973daaa475fa22e98b219aa3b1db0644c466"
  },
  "kernelspec": {
   "display_name": "Python 3.10.0 64-bit",
   "name": "python3"
  },
  "language_info": {
   "codemirror_mode": {
    "name": "ipython",
    "version": 3
   },
   "file_extension": ".py",
   "mimetype": "text/x-python",
   "name": "python",
   "nbconvert_exporter": "python",
   "pygments_lexer": "ipython3",
   "version": "3.10.0"
  },
  "orig_nbformat": 4
 },
 "nbformat": 4,
 "nbformat_minor": 2
}
